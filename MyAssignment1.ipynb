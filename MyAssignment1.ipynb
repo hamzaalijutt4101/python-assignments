{
  "nbformat": 4,
  "nbformat_minor": 0,
  "metadata": {
    "colab": {
      "provenance": []
    },
    "kernelspec": {
      "name": "python3",
      "display_name": "Python 3"
    },
    "language_info": {
      "name": "python"
    }
  },
  "cells": [
    {
      "cell_type": "code",
      "execution_count": null,
      "metadata": {
        "colab": {
          "base_uri": "https://localhost:8080/"
        },
        "id": "Xtw2SbWF130M",
        "outputId": "015b3f4a-add3-498a-e2c5-b606cdb1140e"
      },
      "outputs": [
        {
          "output_type": "stream",
          "name": "stdout",
          "text": [
            "Enter your roll number 15\n",
            "1 2 3 4 5 6 7 8 9 10 11 12 13 14 15 "
          ]
        }
      ],
      "source": [
        "roll = input(\"Enter your roll number \")\n",
        "roll = int(roll)\n",
        "for index in range(1,49):\n",
        "  print(index, end = \" \")\n",
        "  if index == roll:\n",
        "    break"
      ]
    },
    {
      "cell_type": "code",
      "source": [
        "waleed = input(\"waleed roll number \")\n",
        "hammad = input(\"hammad roll number \")\n",
        "anas = input(\"anas roll number \")\n",
        "umer = input(\"umer roll number \")\n",
        "bilal = input(\"bilal roll number \")\n",
        "waleed = int(waleed)\n",
        "hammad = int(hammad)\n",
        "anas = int(anas)\n",
        "umer = int(umer)\n",
        "bilal = int(bilal)\n",
        "for index in range(1,49):\n",
        "  if index == waleed or index == hammad or index == anas or index == umer or index == bilal:\n",
        "    continue\n",
        "  print(index, end = \" \")"
      ],
      "metadata": {
        "colab": {
          "base_uri": "https://localhost:8080/"
        },
        "id": "a0jr4hoW2fjG",
        "outputId": "8f5179ce-6199-431f-963c-281a64dc7eaf"
      },
      "execution_count": null,
      "outputs": [
        {
          "output_type": "stream",
          "name": "stdout",
          "text": [
            "waleed roll number 44\n",
            "hammad roll number 13\n",
            "anas roll number 26\n",
            "umer roll number 47\n",
            "bilal roll number 48\n",
            "1 2 3 4 5 6 7 8 9 10 11 12 14 15 16 17 18 19 20 21 22 23 24 25 27 28 29 30 31 32 33 34 35 36 37 38 39 40 41 42 43 45 46 "
          ]
        }
      ]
    },
    {
      "cell_type": "code",
      "source": [
        "subject = []\n",
        "marks = []\n",
        "student = {}\n",
        "for index in range(6):\n",
        "  subject_name = input(\"Enter Subject Name: \")\n",
        "  subject_marks = int(input(\"Enter the Marks: \"))\n",
        "  if subject_marks > 100:\n",
        "    print(\"Marks should be in between 0 and 100. \")\n",
        "    subject_marks = int(input(\"Enter the Marks: \"))\n",
        "  subject.append(subject_name)\n",
        "  marks.append(subject_marks)\n",
        "student = dict(zip(subject, marks))\n",
        "print(student)"
      ],
      "metadata": {
        "id": "3MlZ-5YC4wxF",
        "colab": {
          "base_uri": "https://localhost:8080/"
        },
        "outputId": "b0b5695e-3784-4c23-f28a-8da4755ecac6"
      },
      "execution_count": null,
      "outputs": [
        {
          "output_type": "stream",
          "name": "stdout",
          "text": [
            "Enter Subject Name: english\n",
            "Enter the Marks: 55\n",
            "Enter Subject Name: urdu\n",
            "Enter the Marks: 79\n",
            "Enter Subject Name: physics\n",
            "Enter the Marks: 21\n",
            "Enter Subject Name: math\n",
            "Enter the Marks: 58\n",
            "Enter Subject Name: islamiyat\n",
            "Enter the Marks: 90\n",
            "Enter Subject Name: biology\n",
            "Enter the Marks: 52\n",
            "{'english': 55, 'urdu': 79, 'physics': 21, 'math': 58, 'islamiyat': 90, 'biology': 52}\n"
          ]
        }
      ]
    },
    {
      "cell_type": "code",
      "source": [
        "total_marks,itr = 0,0\n",
        "for index in range(6):\n",
        "  if marks[index] < 50:\n",
        "    continue\n",
        "  total_marks = total_marks + marks[index]\n",
        "  itr = itr+1\n",
        "print(total_marks/itr)"
      ],
      "metadata": {
        "colab": {
          "base_uri": "https://localhost:8080/"
        },
        "id": "ZRifbJyTpUnK",
        "outputId": "1cc699e3-3542-42ad-f769-898c0290e8be"
      },
      "execution_count": null,
      "outputs": [
        {
          "output_type": "stream",
          "name": "stdout",
          "text": [
            "66.8\n"
          ]
        }
      ]
    }
  ]
}