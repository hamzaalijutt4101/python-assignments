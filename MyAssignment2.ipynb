{
  "nbformat": 4,
  "nbformat_minor": 0,
  "metadata": {
    "colab": {
      "provenance": []
    },
    "kernelspec": {
      "name": "python3",
      "display_name": "Python 3"
    },
    "language_info": {
      "name": "python"
    }
  },
  "cells": [
    {
      "cell_type": "code",
      "execution_count": null,
      "metadata": {
        "colab": {
          "base_uri": "https://localhost:8080/"
        },
        "id": "Snmv654ajseX",
        "outputId": "cd26d21f-4a69-42f0-b025-7169698b6ef6"
      },
      "outputs": [
        {
          "output_type": "stream",
          "name": "stdout",
          "text": [
            "please enter zip code:72200\n",
            "hydrabad\n"
          ]
        }
      ],
      "source": [
        "city={69000:'mirpurkhas',72200:'hydrabad',70010:'tandoalayar'}\n",
        "zipcode=input('please enter zip code:')\n",
        "zipcode=int(zipcode)\n",
        "print(city[zipcode])"
      ]
    },
    {
      "cell_type": "code",
      "source": [
        "total=0 \n",
        "marksheet={}\n",
        "for i in range(5):\n",
        "  fr=input(\"please enter friend \")\n",
        "  marks=[0,0,0,0,0]\n",
        "  for j in range(5):\n",
        "    marks[j]=input(\"please enter marks \")\n",
        "    total=total+int(marks[j])\n",
        "  marksheet[fr]=marks\n",
        "print(marksheet)\n",
        "print('total marks are ',total)\n",
        "print('average is ',total/25)"
      ],
      "metadata": {
        "colab": {
          "base_uri": "https://localhost:8080/"
        },
        "id": "RkkGb4mDlUtt",
        "outputId": "2b02d665-6867-4ee5-8546-eeb0c5c44545"
      },
      "execution_count": null,
      "outputs": [
        {
          "output_type": "stream",
          "name": "stdout",
          "text": [
            "please enter friend umer\n",
            "please enter marks 65\n",
            "please enter marks 68\n",
            "please enter marks 54\n",
            "please enter marks 50\n",
            "please enter marks 80\n",
            "please enter friend anas\n",
            "please enter marks 66\n",
            "please enter marks 4\n",
            "please enter marks 55\n",
            "please enter marks 72\n",
            "please enter marks 61\n",
            "please enter friend shoban\n",
            "please enter marks 50\n",
            "please enter marks 63\n",
            "please enter marks 65\n",
            "please enter marks 66\n",
            "please enter marks 85\n",
            "please enter friend waseem\n",
            "please enter marks 54\n",
            "please enter marks 32\n",
            "please enter marks 65\n",
            "please enter marks 66\n",
            "please enter marks 25\n",
            "please enter friend waleed\n",
            "please enter marks 65\n",
            "please enter marks 63\n",
            "please enter marks 35\n",
            "please enter marks 56\n",
            "please enter marks 68\n",
            "{'umer': ['65', '68', '54', '50', '80'], 'anas': ['66', '4', '55', '72', '61'], 'shoban': ['50', '63', '65', '66', '85'], 'waseem': ['54', '32', '65', '66', '25'], 'waleed': ['65', '63', '35', '56', '68']}\n",
            "total marks are  1433\n",
            "average is  57.32\n"
          ]
        }
      ]
    },
    {
      "cell_type": "code",
      "source": [],
      "metadata": {
        "id": "_i5QClBBqv5T"
      },
      "execution_count": null,
      "outputs": []
    }
  ]
}